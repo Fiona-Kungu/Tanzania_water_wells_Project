{
 "cells": [
  {
   "cell_type": "code",
   "execution_count": 461,
   "metadata": {},
   "outputs": [],
   "source": [
    "# importing necessary libraries\n",
    "import pandas as pd\n",
    "import matplotlib.pyplot as plt\n",
    "import seaborn as sns; sns.set()\n",
    "%matplotlib inline\n",
    "\n",
    "import pandas as pd\n",
    "import numpy as np\n",
    "from sklearn.tree import DecisionTreeClassifier\n",
    "from sklearn.ensemble import RandomForestClassifier, ExtraTreesClassifier\n",
    "from sklearn.linear_model import LogisticRegression\n",
    "from sklearn.dummy import DummyClassifier\n",
    "from sklearn.svm import SVC\n",
    "from sklearn.neighbors import KNeighborsClassifier\n",
    "from sklearn.naive_bayes import GaussianNB\n",
    "from sklearn.preprocessing import KBinsDiscretizer, FunctionTransformer,RobustScaler,StandardScaler\n",
    "from sklearn.model_selection import cross_val_score\n",
    "from sklearn.preprocessing import LabelEncoder, OneHotEncoder\n",
    "from sklearn.pipeline import make_pipeline, Pipeline\n",
    "\n",
    "from sklearn.model_selection import GridSearchCV, train_test_split\n",
    "from sklearn.metrics import roc_auc_score\n",
    "\n",
    "from sklearn.datasets import make_classification\n",
    "from sklearn.model_selection import train_test_split, GridSearchCV\n",
    "\n",
    "import warnings\n",
    "warnings.filterwarnings(\"ignore\")"
   ]
  },
  {
   "cell_type": "code",
   "execution_count": 462,
   "metadata": {},
   "outputs": [],
   "source": [
    "#the new clean dataframe\n",
    "df2 = pd.read_csv('cleaned_data.csv', index_col=0)\n"
   ]
  },
  {
   "cell_type": "code",
   "execution_count": 463,
   "metadata": {},
   "outputs": [],
   "source": [
    "pd.options.display.max_columns=100 # to see all columns"
   ]
  },
  {
   "cell_type": "code",
   "execution_count": 464,
   "metadata": {},
   "outputs": [
    {
     "data": {
      "text/html": [
       "<div>\n",
       "<style scoped>\n",
       "    .dataframe tbody tr th:only-of-type {\n",
       "        vertical-align: middle;\n",
       "    }\n",
       "\n",
       "    .dataframe tbody tr th {\n",
       "        vertical-align: top;\n",
       "    }\n",
       "\n",
       "    .dataframe thead th {\n",
       "        text-align: right;\n",
       "    }\n",
       "</style>\n",
       "<table border=\"1\" class=\"dataframe\">\n",
       "  <thead>\n",
       "    <tr style=\"text-align: right;\">\n",
       "      <th></th>\n",
       "      <th>amount_tsh</th>\n",
       "      <th>date_recorded</th>\n",
       "      <th>funder</th>\n",
       "      <th>gps_height</th>\n",
       "      <th>installer</th>\n",
       "      <th>longitude</th>\n",
       "      <th>latitude</th>\n",
       "      <th>num_private</th>\n",
       "      <th>basin</th>\n",
       "      <th>subvillage</th>\n",
       "      <th>region</th>\n",
       "      <th>district_code</th>\n",
       "      <th>lga</th>\n",
       "      <th>ward</th>\n",
       "      <th>population</th>\n",
       "      <th>public_meeting</th>\n",
       "      <th>recorded_by</th>\n",
       "      <th>permit</th>\n",
       "      <th>construction_year</th>\n",
       "      <th>extraction_type_group</th>\n",
       "      <th>management</th>\n",
       "      <th>payment</th>\n",
       "      <th>water_quality</th>\n",
       "      <th>quantity</th>\n",
       "      <th>source</th>\n",
       "      <th>waterpoint_type</th>\n",
       "      <th>status_group</th>\n",
       "      <th>decade</th>\n",
       "      <th>funder_cat</th>\n",
       "    </tr>\n",
       "  </thead>\n",
       "  <tbody>\n",
       "    <tr>\n",
       "      <th>0</th>\n",
       "      <td>6000.0</td>\n",
       "      <td>2011-03-14</td>\n",
       "      <td>Roman</td>\n",
       "      <td>1390</td>\n",
       "      <td>Roman</td>\n",
       "      <td>34.938093</td>\n",
       "      <td>-9.856322</td>\n",
       "      <td>0</td>\n",
       "      <td>Lake Nyasa</td>\n",
       "      <td>Mnyusi B</td>\n",
       "      <td>Iringa</td>\n",
       "      <td>5</td>\n",
       "      <td>Ludewa</td>\n",
       "      <td>Mundindi</td>\n",
       "      <td>109</td>\n",
       "      <td>True</td>\n",
       "      <td>GeoData Consultants Ltd</td>\n",
       "      <td>False</td>\n",
       "      <td>1999</td>\n",
       "      <td>gravity</td>\n",
       "      <td>vwc</td>\n",
       "      <td>pay annually</td>\n",
       "      <td>soft</td>\n",
       "      <td>enough</td>\n",
       "      <td>spring</td>\n",
       "      <td>communal standpipe</td>\n",
       "      <td>0</td>\n",
       "      <td>90s</td>\n",
       "      <td>Others</td>\n",
       "    </tr>\n",
       "    <tr>\n",
       "      <th>1</th>\n",
       "      <td>0.0</td>\n",
       "      <td>2013-03-06</td>\n",
       "      <td>Grumeti</td>\n",
       "      <td>1399</td>\n",
       "      <td>GRUMETI</td>\n",
       "      <td>34.698766</td>\n",
       "      <td>-2.147466</td>\n",
       "      <td>0</td>\n",
       "      <td>Lake Victoria</td>\n",
       "      <td>Nyamara</td>\n",
       "      <td>Mara</td>\n",
       "      <td>2</td>\n",
       "      <td>Serengeti</td>\n",
       "      <td>Natta</td>\n",
       "      <td>280</td>\n",
       "      <td>NaN</td>\n",
       "      <td>GeoData Consultants Ltd</td>\n",
       "      <td>True</td>\n",
       "      <td>2010</td>\n",
       "      <td>gravity</td>\n",
       "      <td>wug</td>\n",
       "      <td>never pay</td>\n",
       "      <td>soft</td>\n",
       "      <td>insufficient</td>\n",
       "      <td>rainwater harvesting</td>\n",
       "      <td>communal standpipe</td>\n",
       "      <td>0</td>\n",
       "      <td>10s</td>\n",
       "      <td>Others</td>\n",
       "    </tr>\n",
       "    <tr>\n",
       "      <th>2</th>\n",
       "      <td>25.0</td>\n",
       "      <td>2013-02-25</td>\n",
       "      <td>Lottery Club</td>\n",
       "      <td>686</td>\n",
       "      <td>World vision</td>\n",
       "      <td>37.460664</td>\n",
       "      <td>-3.821329</td>\n",
       "      <td>0</td>\n",
       "      <td>Pangani</td>\n",
       "      <td>Majengo</td>\n",
       "      <td>Manyara</td>\n",
       "      <td>4</td>\n",
       "      <td>Simanjiro</td>\n",
       "      <td>Ngorika</td>\n",
       "      <td>250</td>\n",
       "      <td>True</td>\n",
       "      <td>GeoData Consultants Ltd</td>\n",
       "      <td>True</td>\n",
       "      <td>2009</td>\n",
       "      <td>gravity</td>\n",
       "      <td>vwc</td>\n",
       "      <td>pay per bucket</td>\n",
       "      <td>soft</td>\n",
       "      <td>enough</td>\n",
       "      <td>dam</td>\n",
       "      <td>communal standpipe multiple</td>\n",
       "      <td>0</td>\n",
       "      <td>00s</td>\n",
       "      <td>Others</td>\n",
       "    </tr>\n",
       "    <tr>\n",
       "      <th>3</th>\n",
       "      <td>0.0</td>\n",
       "      <td>2013-01-28</td>\n",
       "      <td>Unicef</td>\n",
       "      <td>263</td>\n",
       "      <td>UNICEF</td>\n",
       "      <td>38.486161</td>\n",
       "      <td>-11.155298</td>\n",
       "      <td>0</td>\n",
       "      <td>Ruvuma / Southern Coast</td>\n",
       "      <td>Mahakamani</td>\n",
       "      <td>Mtwara</td>\n",
       "      <td>63</td>\n",
       "      <td>Nanyumbu</td>\n",
       "      <td>Nanyumbu</td>\n",
       "      <td>58</td>\n",
       "      <td>True</td>\n",
       "      <td>GeoData Consultants Ltd</td>\n",
       "      <td>True</td>\n",
       "      <td>1986</td>\n",
       "      <td>submersible</td>\n",
       "      <td>vwc</td>\n",
       "      <td>never pay</td>\n",
       "      <td>soft</td>\n",
       "      <td>dry</td>\n",
       "      <td>machine dbh</td>\n",
       "      <td>communal standpipe multiple</td>\n",
       "      <td>2</td>\n",
       "      <td>80s</td>\n",
       "      <td>Unicef</td>\n",
       "    </tr>\n",
       "    <tr>\n",
       "      <th>4</th>\n",
       "      <td>0.0</td>\n",
       "      <td>2011-07-13</td>\n",
       "      <td>Action In A</td>\n",
       "      <td>0</td>\n",
       "      <td>Artisan</td>\n",
       "      <td>31.130847</td>\n",
       "      <td>-1.825359</td>\n",
       "      <td>0</td>\n",
       "      <td>Lake Victoria</td>\n",
       "      <td>Kyanyamisa</td>\n",
       "      <td>Kagera</td>\n",
       "      <td>1</td>\n",
       "      <td>Karagwe</td>\n",
       "      <td>Nyakasimbi</td>\n",
       "      <td>0</td>\n",
       "      <td>True</td>\n",
       "      <td>GeoData Consultants Ltd</td>\n",
       "      <td>True</td>\n",
       "      <td>0</td>\n",
       "      <td>gravity</td>\n",
       "      <td>other</td>\n",
       "      <td>never pay</td>\n",
       "      <td>soft</td>\n",
       "      <td>seasonal</td>\n",
       "      <td>rainwater harvesting</td>\n",
       "      <td>communal standpipe</td>\n",
       "      <td>0</td>\n",
       "      <td>0</td>\n",
       "      <td>Others</td>\n",
       "    </tr>\n",
       "  </tbody>\n",
       "</table>\n",
       "</div>"
      ],
      "text/plain": [
       "   amount_tsh date_recorded        funder  gps_height     installer  \\\n",
       "0      6000.0    2011-03-14         Roman        1390         Roman   \n",
       "1         0.0    2013-03-06       Grumeti        1399       GRUMETI   \n",
       "2        25.0    2013-02-25  Lottery Club         686  World vision   \n",
       "3         0.0    2013-01-28        Unicef         263        UNICEF   \n",
       "4         0.0    2011-07-13   Action In A           0       Artisan   \n",
       "\n",
       "   longitude   latitude  num_private                    basin  subvillage  \\\n",
       "0  34.938093  -9.856322            0               Lake Nyasa    Mnyusi B   \n",
       "1  34.698766  -2.147466            0            Lake Victoria     Nyamara   \n",
       "2  37.460664  -3.821329            0                  Pangani     Majengo   \n",
       "3  38.486161 -11.155298            0  Ruvuma / Southern Coast  Mahakamani   \n",
       "4  31.130847  -1.825359            0            Lake Victoria  Kyanyamisa   \n",
       "\n",
       "    region  district_code        lga        ward  population public_meeting  \\\n",
       "0   Iringa              5     Ludewa    Mundindi         109           True   \n",
       "1     Mara              2  Serengeti       Natta         280            NaN   \n",
       "2  Manyara              4  Simanjiro     Ngorika         250           True   \n",
       "3   Mtwara             63   Nanyumbu    Nanyumbu          58           True   \n",
       "4   Kagera              1    Karagwe  Nyakasimbi           0           True   \n",
       "\n",
       "               recorded_by permit  construction_year extraction_type_group  \\\n",
       "0  GeoData Consultants Ltd  False               1999               gravity   \n",
       "1  GeoData Consultants Ltd   True               2010               gravity   \n",
       "2  GeoData Consultants Ltd   True               2009               gravity   \n",
       "3  GeoData Consultants Ltd   True               1986           submersible   \n",
       "4  GeoData Consultants Ltd   True                  0               gravity   \n",
       "\n",
       "  management         payment water_quality      quantity  \\\n",
       "0        vwc    pay annually          soft        enough   \n",
       "1        wug       never pay          soft  insufficient   \n",
       "2        vwc  pay per bucket          soft        enough   \n",
       "3        vwc       never pay          soft           dry   \n",
       "4      other       never pay          soft      seasonal   \n",
       "\n",
       "                 source              waterpoint_type  status_group decade  \\\n",
       "0                spring           communal standpipe             0    90s   \n",
       "1  rainwater harvesting           communal standpipe             0    10s   \n",
       "2                   dam  communal standpipe multiple             0    00s   \n",
       "3           machine dbh  communal standpipe multiple             2    80s   \n",
       "4  rainwater harvesting           communal standpipe             0      0   \n",
       "\n",
       "  funder_cat  \n",
       "0     Others  \n",
       "1     Others  \n",
       "2     Others  \n",
       "3     Unicef  \n",
       "4     Others  "
      ]
     },
     "execution_count": 464,
     "metadata": {},
     "output_type": "execute_result"
    }
   ],
   "source": [
    "df2.head()"
   ]
  },
  {
   "cell_type": "code",
   "execution_count": 465,
   "metadata": {},
   "outputs": [],
   "source": [
    "# we dropped some columns for now, because we have categorized versions of them\n",
    "df2.drop(columns=['funder','installer','construction_year','date_recorded','basin','region', 'subvillage',\n",
    "                  'recorded_by'],inplace=True )"
   ]
  },
  {
   "cell_type": "code",
   "execution_count": 466,
   "metadata": {},
   "outputs": [],
   "source": [
    "#keeping the original\n",
    "df3=df2.copy"
   ]
  },
  {
   "cell_type": "code",
   "execution_count": 467,
   "metadata": {},
   "outputs": [],
   "source": [
    "df2.drop(columns=['lga','ward'],inplace=True )"
   ]
  },
  {
   "cell_type": "code",
   "execution_count": 468,
   "metadata": {},
   "outputs": [],
   "source": [
    "#changing from True/False to 0-1\n",
    "df2['permit'] = df2['permit'].astype(bool).astype(int)\n"
   ]
  },
  {
   "cell_type": "code",
   "execution_count": 469,
   "metadata": {},
   "outputs": [],
   "source": [
    "df2['public_meeting'] = df2['public_meeting'].astype(bool).astype(int) #changing from True/False to 0-1"
   ]
  },
  {
   "cell_type": "code",
   "execution_count": 470,
   "metadata": {},
   "outputs": [],
   "source": [
    "cat_columns = ['extraction_type_group','management','payment','water_quality','quantity',\n",
    "               'source','waterpoint_type','decade','funder_cat']"
   ]
  },
  {
   "cell_type": "code",
   "execution_count": 471,
   "metadata": {},
   "outputs": [],
   "source": [
    "num_col = ['gps_height','longitude','latitude','district_code','population','public_meeting','permit']\n"
   ]
  },
  {
   "cell_type": "code",
   "execution_count": 472,
   "metadata": {},
   "outputs": [],
   "source": [
    "# Create an instance of LabelEncoder\n",
    "encoder = LabelEncoder()\n",
    "\n",
    "# Encode the categorical columns in the DataFrame\n",
    "for col in cat_columns:\n",
    "    df2[col] = encoder.fit_transform(df2[col])\n",
    "\n",
    "# covert categorical columns to integer\n",
    "for col in cat_columns:\n",
    "    df2[col] = df2[col].astype(int)"
   ]
  },
  {
   "cell_type": "code",
   "execution_count": 473,
   "metadata": {},
   "outputs": [
    {
     "data": {
      "text/plain": [
       "0    32259\n",
       "2    22824\n",
       "1     4317\n",
       "Name: status_group, dtype: int64"
      ]
     },
     "execution_count": 473,
     "metadata": {},
     "output_type": "execute_result"
    }
   ],
   "source": [
    "df2['status_group'].value_counts()\n"
   ]
  },
  {
   "attachments": {},
   "cell_type": "markdown",
   "metadata": {},
   "source": [
    "Functional water points equal 0;\n",
    "\n",
    "1 means the water points are working but need repair.\n",
    "\n",
    "2 = inoperative water points\n",
    "\n",
    "We add up all the functional and functional but aid target and make them 1, while the non-functional is 0."
   ]
  },
  {
   "cell_type": "code",
   "execution_count": 474,
   "metadata": {},
   "outputs": [],
   "source": [
    "# getting together labels and converting them \n",
    "target_status_group = {0:1, 1: 1, 2 : 0}\n",
    "df2['status_group'] = df2['status_group'].replace(target_status_group)"
   ]
  },
  {
   "cell_type": "code",
   "execution_count": 475,
   "metadata": {},
   "outputs": [
    {
     "data": {
      "text/plain": [
       "1    36576\n",
       "0    22824\n",
       "Name: status_group, dtype: int64"
      ]
     },
     "execution_count": 475,
     "metadata": {},
     "output_type": "execute_result"
    }
   ],
   "source": [
    "df2['status_group'].value_counts()"
   ]
  },
  {
   "cell_type": "code",
   "execution_count": 476,
   "metadata": {},
   "outputs": [],
   "source": [
    "target='status_group'"
   ]
  },
  {
   "cell_type": "code",
   "execution_count": 477,
   "metadata": {},
   "outputs": [],
   "source": [
    "# Dividing X and target \n",
    "\n",
    "used_cols = [c for c in df2.columns.tolist() if c not in [target]]\n",
    "X=df2[used_cols]\n",
    "y=df2[target]"
   ]
  },
  {
   "cell_type": "code",
   "execution_count": 478,
   "metadata": {},
   "outputs": [],
   "source": [
    "# split the dataset\n",
    "X = df2.drop('status_group', axis=1)\n",
    "y = df2['status_group']\n",
    "\n",
    "X_train, X_test, y_train, y_test = train_test_split(X, y, test_size=0.25, random_state=42)"
   ]
  },
  {
   "cell_type": "code",
   "execution_count": 479,
   "metadata": {},
   "outputs": [
    {
     "name": "stdout",
     "output_type": "stream",
     "text": [
      "[0 1]\n",
      "[0 1]\n"
     ]
    }
   ],
   "source": [
    "print(y_train.unique())\n",
    "print(y_test.unique())\n"
   ]
  },
  {
   "attachments": {},
   "cell_type": "markdown",
   "metadata": {},
   "source": [
    "In this notebook, train test split will be used to solve the issue first. We will use cross validation to find the best outcome after learning from the baseline. because it is more practical and simpler to comprehend what is happening. To determine whether or not our results are consistent, we will utilize both for select models. Balanced accuracy serves as the competition's benchmark. But we also want to examine the roc_auc score, particularly for specific models, to be sure and comprehend the progress.\n",
    "\n",
    "To write our results to an empty dataframe that we can maintain even if the parameter changes, we will create one."
   ]
  },
  {
   "cell_type": "code",
   "execution_count": 480,
   "metadata": {},
   "outputs": [],
   "source": [
    "df_results = pd.DataFrame(columns=[\"Model\", \"Scaler\",'Encoder',\n",
    "                                   'roc_auc score mean', 'roc_auc score std']) # to see all results"
   ]
  },
  {
   "attachments": {},
   "cell_type": "markdown",
   "metadata": {},
   "source": [
    "## Baseline "
   ]
  },
  {
   "attachments": {},
   "cell_type": "markdown",
   "metadata": {},
   "source": [
    "We will create a pipeline, apply it in our model and classifier updates, then scale and encode category columns. We utilize Robust Scaler as a scaler for the initial trial. Robust scales employ statistical methods that are resistant to outliers. Interquartile Range (IQR) is used by robust scalers. We shall attempt a target encoder that is effective with features of higher cardinality. Additionally, our data has greater unique values. Logistic regression, which estimates the likelihood that a specific instance belongs to a class, is our first test for the baseline. Our classes are unbalanced, therefore we decided to give them a balanced weight. Solver is an algorithm that can be used to solve optimization problems, and it can handle multinomial loss in multiclass situations."
   ]
  },
  {
   "attachments": {},
   "cell_type": "markdown",
   "metadata": {},
   "source": [
    "Interpretation:\n",
    "Based on these results, it seems that the logistic regression model is not performing significantly better than random guessing. The accuracy scores are relatively low, indicating that the model's predictions do not align well with the true labels of the data. It might be worth exploring other models or further improving the data preprocessing and feature engineering steps to enhance the model's performance. Additionally, consider investigating the class distribution and potential issues related to class imbalance, as this could impact the model's performance as well."
   ]
  },
  {
   "cell_type": "code",
   "execution_count": 481,
   "metadata": {},
   "outputs": [
    {
     "name": "stdout",
     "output_type": "stream",
     "text": [
      "Requirement already satisfied: category_encoders in /Users/gitahi/opt/anaconda3/envs/learn-env/lib/python3.8/site-packages (2.6.1)\n",
      "Requirement already satisfied: scikit-learn>=0.20.0 in /Users/gitahi/opt/anaconda3/envs/learn-env/lib/python3.8/site-packages (from category_encoders) (0.23.2)\n",
      "Requirement already satisfied: numpy>=1.14.0 in /Users/gitahi/opt/anaconda3/envs/learn-env/lib/python3.8/site-packages (from category_encoders) (1.18.5)\n",
      "Requirement already satisfied: statsmodels>=0.9.0 in /Users/gitahi/opt/anaconda3/envs/learn-env/lib/python3.8/site-packages (from category_encoders) (0.12.0)\n",
      "Requirement already satisfied: patsy>=0.5.1 in /Users/gitahi/opt/anaconda3/envs/learn-env/lib/python3.8/site-packages (from category_encoders) (0.5.1)\n",
      "Requirement already satisfied: scipy>=1.0.0 in /Users/gitahi/opt/anaconda3/envs/learn-env/lib/python3.8/site-packages (from category_encoders) (1.5.2)\n",
      "Requirement already satisfied: pandas>=1.0.5 in /Users/gitahi/opt/anaconda3/envs/learn-env/lib/python3.8/site-packages (from category_encoders) (1.1.3)\n",
      "Requirement already satisfied: joblib>=0.11 in /Users/gitahi/opt/anaconda3/envs/learn-env/lib/python3.8/site-packages (from scikit-learn>=0.20.0->category_encoders) (0.17.0)\n",
      "Requirement already satisfied: threadpoolctl>=2.0.0 in /Users/gitahi/opt/anaconda3/envs/learn-env/lib/python3.8/site-packages (from scikit-learn>=0.20.0->category_encoders) (2.1.0)\n",
      "Requirement already satisfied: six in /Users/gitahi/opt/anaconda3/envs/learn-env/lib/python3.8/site-packages (from patsy>=0.5.1->category_encoders) (1.15.0)\n",
      "Requirement already satisfied: python-dateutil>=2.7.3 in /Users/gitahi/opt/anaconda3/envs/learn-env/lib/python3.8/site-packages (from pandas>=1.0.5->category_encoders) (2.8.1)\n",
      "Requirement already satisfied: pytz>=2017.2 in /Users/gitahi/opt/anaconda3/envs/learn-env/lib/python3.8/site-packages (from pandas>=1.0.5->category_encoders) (2020.1)\n",
      "Note: you may need to restart the kernel to use updated packages.\n"
     ]
    }
   ],
   "source": [
    "pip install category_encoders\n"
   ]
  },
  {
   "cell_type": "code",
   "execution_count": 482,
   "metadata": {},
   "outputs": [
    {
     "name": "stdout",
     "output_type": "stream",
     "text": [
      "Accuracy:\n",
      "=========\n",
      "TRAIN: 0.7712682379349046\n",
      "TEST: 0.7753535353535354\n",
      "\n",
      "Balanced Accuracy:\n",
      "==================\n",
      "TRAIN: 0.7513559992714905\n",
      "TEST: 0.7549425660620475\n"
     ]
    }
   ],
   "source": [
    "#import the necessary libraries\n",
    "import category_encoders as ce\n",
    "from sklearn.compose import ColumnTransformer\n",
    "from sklearn.metrics import accuracy_score, balanced_accuracy_score\n",
    "#making pipeline\n",
    "\n",
    "scaler = RobustScaler()\n",
    "encoder = ce.TargetEncoder(cols=cat_columns)\n",
    "\n",
    "# putting numeric columns to scaler and categorical to encoder\n",
    "num_transformer = make_pipeline(scaler)\n",
    "cat_transformer = make_pipeline(encoder)\n",
    "\n",
    "# getting together our scaler and encoder with preprocessor\n",
    "preprocessor = ColumnTransformer(\n",
    "      transformers=[('num', num_transformer, num_col),\n",
    "                    ('cat', cat_transformer, cat_columns)])\n",
    "\n",
    "\n",
    "# choosing model\n",
    "lr = LogisticRegression(class_weight = 'balanced', solver = 'lbfgs', random_state=42)\n",
    "\n",
    "# giving all values to pipeline\n",
    "pipe = make_pipeline(preprocessor,lr)\n",
    "pipe.fit(X_train, y_train)\n",
    "\n",
    "\n",
    "# make predictions on training set\n",
    "y_pred = pipe.predict(X_train)\n",
    "\n",
    "# make predictions on test set\n",
    "y_pred_test = pipe.predict(X_test)\n",
    "\n",
    "# to print the results in good way\n",
    "print(\"Accuracy:\"); print(\"=\"*len(\"Accuracy:\"))\n",
    "print(f\"TRAIN: {accuracy_score(y_train, y_pred)}\")\n",
    "print(f\"TEST: {accuracy_score(y_test, y_pred_test)}\")\n",
    "\n",
    "print(\"\\nBalanced Accuracy:\"); print(\"=\"*len(\"Balanced Accuracy:\"))\n",
    "print(f\"TRAIN: {balanced_accuracy_score(y_train, y_pred)}\")\n",
    "print(f\"TEST: {balanced_accuracy_score(y_test, y_pred_test)}\")"
   ]
  },
  {
   "attachments": {},
   "cell_type": "markdown",
   "metadata": {},
   "source": [
    "Overall, the model's performance seems relatively consistent between the training and testing datasets, indicating that it generalizes well to unseen data. However, the evaluation of a model's performance should also consider other metrics, such as precision, recall, F1-score, or confusion matrix, depending on the specific problem and requirements. These additional metrics can provide more detailed insights into the model's behavior and performance across different classes or prediction scenarios."
   ]
  },
  {
   "cell_type": "code",
   "execution_count": 483,
   "metadata": {},
   "outputs": [
    {
     "name": "stdout",
     "output_type": "stream",
     "text": [
      "0.8313801027562988 +/- 0.004261876637922219\n"
     ]
    }
   ],
   "source": [
    "scores = cross_val_score(pipe, X, y, cv=5, scoring='roc_auc')\n",
    "print(scores.mean(), \"+/-\", scores.std()) "
   ]
  },
  {
   "attachments": {},
   "cell_type": "markdown",
   "metadata": {},
   "source": [
    "Better outcomes than even splits are discovered. Additionally, this outcome is enough for a baseline. Std is not overly high either. These outcomes demonstrate the value of data cleaning. We made a good effort to clean up our data. Perhaps thorough cleaning is the reason why our simple model produces decent outcomes."
   ]
  },
  {
   "cell_type": "code",
   "execution_count": 484,
   "metadata": {},
   "outputs": [],
   "source": [
    "df_results = df_results.append({       # first trial is written in results \n",
    "     \"Model\": 'LogReg' ,\n",
    "      \"Scaler\": 'Robust' , \n",
    "       'Encoder' : 'TargetEncoder',\n",
    "               'roc_auc score mean' : 0.8313,\n",
    "                    'roc_auc score std' : 0.0041}, ignore_index=True)"
   ]
  },
  {
   "attachments": {},
   "cell_type": "markdown",
   "metadata": {},
   "source": [
    "Robust scaler with log reg\n",
    "\n",
    "\n",
    "The predictive ability of an independent variable in relation to the dependent variable is how the weight of evidence encoder functions. It implies a battle between good and evil. In essence, it computes the percentage of occurrences and non-events."
   ]
  },
  {
   "cell_type": "code",
   "execution_count": 485,
   "metadata": {},
   "outputs": [
    {
     "name": "stdout",
     "output_type": "stream",
     "text": [
      "0.83196896615953 +/- 0.004210201849362273\n"
     ]
    }
   ],
   "source": [
    "scaler = RobustScaler()\n",
    "encoder = ce.WOEEncoder(cols=cat_columns)\n",
    "\n",
    "# putting numeric columns to scaler and categorical to encoder\n",
    "num_transformer = make_pipeline(scaler)\n",
    "cat_transformer = make_pipeline(encoder)\n",
    "\n",
    "# getting together our scaler and encoder with preprocessor\n",
    "preprocessor = ColumnTransformer(\n",
    "      transformers=[('num', num_transformer, num_col),\n",
    "                    ('cat', cat_transformer, cat_columns)])\n",
    "\n",
    "# giving all values to pipeline\n",
    "pipe = make_pipeline(preprocessor,lr)\n",
    "\n",
    "scores = cross_val_score(pipe, X, y, cv=5, scoring='roc_auc')\n",
    "print(scores.mean(), \"+/-\", scores.std()) "
   ]
  },
  {
   "cell_type": "code",
   "execution_count": 486,
   "metadata": {},
   "outputs": [],
   "source": [
    "df_results = df_results.append({       # results written in dataframe\n",
    "     \"Model\": 'LogReg' ,\n",
    "      \"Scaler\": 'Robust' , \n",
    "       'Encoder' : 'WeO',\n",
    "                'roc_auc score mean' : 0.8318,\n",
    "                    'roc_auc score std' : 0.0040}, ignore_index=True)"
   ]
  },
  {
   "attachments": {},
   "cell_type": "markdown",
   "metadata": {},
   "source": [
    "Robust Scaler/ OneHot Encoder with LogReg"
   ]
  },
  {
   "cell_type": "code",
   "execution_count": 487,
   "metadata": {},
   "outputs": [
    {
     "name": "stdout",
     "output_type": "stream",
     "text": [
      "0.8451077807149124 +/- 0.0025192625825554977\n",
      "Accuracy:\n",
      "=========\n",
      "TRAIN: 0.7844219977553311\n",
      "TEST: 0.7832323232323233\n",
      "\n",
      "Balanced Accuracy:\n",
      "==================\n",
      "TRAIN: 0.7669490672318988\n",
      "TEST: 0.7657151257629426\n"
     ]
    }
   ],
   "source": [
    "scaler = RobustScaler()\n",
    "encoder = ce.OneHotEncoder(cols=cat_columns)\n",
    "\n",
    "num_transformer = make_pipeline(scaler)\n",
    "cat_transformer = make_pipeline(encoder)\n",
    "\n",
    "\n",
    "preprocessor = ColumnTransformer(\n",
    "      transformers=[('num', num_transformer, num_col),\n",
    "                    ('cat', cat_transformer, cat_columns)])\n",
    "\n",
    "pipe = make_pipeline(preprocessor,lr)\n",
    "\n",
    "scores = cross_val_score(pipe, X, y, cv=5, scoring='roc_auc')\n",
    "print(scores.mean(), \"+/-\", scores.std())\n",
    "\n",
    "pipe.fit(X_train, y_train)\n",
    "\n",
    "# make predictions on training set\n",
    "y_pred = pipe.predict(X_train)\n",
    "\n",
    "# make predictions on test set\n",
    "y_pred_test = pipe.predict(X_test)\n",
    "\n",
    "# to print the results in good way\n",
    "print(\"Accuracy:\"); print(\"=\"*len(\"Accuracy:\"))\n",
    "print(f\"TRAIN: {accuracy_score(y_train, y_pred)}\")\n",
    "print(f\"TEST: {accuracy_score(y_test, y_pred_test)}\")\n",
    "\n",
    "print(\"\\nBalanced Accuracy:\"); print(\"=\"*len(\"Balanced Accuracy:\"))\n",
    "print(f\"TRAIN: {balanced_accuracy_score(y_train, y_pred)}\")\n",
    "print(f\"TEST: {balanced_accuracy_score(y_test, y_pred_test)}\")"
   ]
  },
  {
   "cell_type": "code",
   "execution_count": 488,
   "metadata": {},
   "outputs": [],
   "source": [
    "df_results = df_results.append({       # results written in dataframe\n",
    "     \"Model\": 'LogReg' ,\n",
    "      \"Scaler\": 'Robust' , \n",
    "       'Encoder' : 'OneHot',\n",
    "                'roc_auc score mean' : 0.8538,\n",
    "                    'roc_auc score std' : 0.0024}, ignore_index=True)"
   ]
  },
  {
   "attachments": {},
   "cell_type": "markdown",
   "metadata": {},
   "source": [
    "We chose our encoder as the weight of evidence encoder even though one-hot encoding offers the highest value. due to the fact that a binary feature is created by a one-hot encoder for each unique value in a column. Thus, it is not very helpful for categorical values with high cardinality like those in our data. because running the model each time takes too long."
   ]
  },
  {
   "attachments": {},
   "cell_type": "markdown",
   "metadata": {},
   "source": [
    "WoE Encoder/MinMax Scaler with LogReg\n",
    "\n",
    "\n",
    "The min-max scaler typically performs effectively when the distribution is not Gaussian or the standard deviation is very low. So, we'll check out and evaluate our scalers."
   ]
  },
  {
   "cell_type": "code",
   "execution_count": 489,
   "metadata": {},
   "outputs": [
    {
     "name": "stdout",
     "output_type": "stream",
     "text": [
      "0.8319690383344078 +/- 0.004197633622961292\n"
     ]
    }
   ],
   "source": [
    "from sklearn.preprocessing import MinMaxScaler\n",
    "\n",
    "scaler = MinMaxScaler()\n",
    "encoder = ce.WOEEncoder(cols=cat_columns)\n",
    "\n",
    "# putting numeric columns to scaler and categorical to encoder\n",
    "num_transformer = make_pipeline(scaler)\n",
    "cat_transformer = make_pipeline(encoder)\n",
    "\n",
    "# getting together our scaler and encoder with preprocessor\n",
    "preprocessor = ColumnTransformer(\n",
    "      transformers=[('num', num_transformer, num_col),\n",
    "                    ('cat', cat_transformer, cat_columns)])\n",
    "\n",
    "# giving all values to pipeline\n",
    "pipe = make_pipeline(preprocessor,lr)\n",
    "\n",
    "scores = cross_val_score(pipe, X, y, cv=5, scoring='roc_auc')\n",
    "print(scores.mean(), \"+/-\", scores.std()) "
   ]
  },
  {
   "cell_type": "code",
   "execution_count": 490,
   "metadata": {},
   "outputs": [],
   "source": [
    "df_results = df_results.append({       # results written in dataframe\n",
    "     \"Model\": 'LogReg' ,\n",
    "      \"Scaler\": 'MinMax' , \n",
    "       'Encoder' : 'WoE',\n",
    "                'roc_auc score mean' : 0.8317,\n",
    "                    'roc_auc score std' : 0.0040}, ignore_index=True)"
   ]
  },
  {
   "attachments": {},
   "cell_type": "markdown",
   "metadata": {},
   "source": [
    "Decision Trees Classifier\n",
    "\n",
    "Using logistic regression, we obtain a roc-auc score of 0.83. We'll experiment with new models to make this better. Decision Tree Classifier is the first test."
   ]
  },
  {
   "cell_type": "code",
   "execution_count": 491,
   "metadata": {},
   "outputs": [
    {
     "name": "stdout",
     "output_type": "stream",
     "text": [
      "0.7887534207028774 +/- 0.006682420717211634\n"
     ]
    }
   ],
   "source": [
    "dt = DecisionTreeClassifier(criterion='entropy', max_depth=4, min_samples_leaf=5, \n",
    "                            random_state=42, class_weight='balanced')\n",
    "\n",
    "pipe = make_pipeline(preprocessor,dt)\n",
    "\n",
    "scores = cross_val_score(pipe, X, y, cv=5, scoring='roc_auc')\n",
    "print(scores.mean(), \"+/-\", scores.std())"
   ]
  },
  {
   "cell_type": "code",
   "execution_count": 492,
   "metadata": {},
   "outputs": [],
   "source": [
    "df_results = df_results.append({       # results written in dataframe\n",
    "     \"Model\": 'DecisionTreeClassifier' ,\n",
    "      \"Scaler\": 'Robust' , \n",
    "       'Encoder' : 'WoE',\n",
    "                'roc_auc score mean' : 0.7864,\n",
    "                    'roc_auc score std' : 0.0089}, ignore_index=True)"
   ]
  },
  {
   "attachments": {},
   "cell_type": "markdown",
   "metadata": {},
   "source": [
    "RandomForest\n",
    "\n",
    "\n",
    "By using randomization in the construction of n_estimators, bootstrapping samples, splitting nodes based on the best split among a random subset of the features selected at each node, and homogenizing non-homogeneous nodes into best possibles, random forest models can lower the risk of overfitting."
   ]
  },
  {
   "cell_type": "code",
   "execution_count": 493,
   "metadata": {},
   "outputs": [
    {
     "name": "stdout",
     "output_type": "stream",
     "text": [
      "0.9189631178404358 +/- 0.0021730333932803826\n"
     ]
    }
   ],
   "source": [
    "rf = RandomForestClassifier(n_estimators=50, random_state=42, n_jobs=-1,class_weight='balanced')\n",
    "\n",
    "pipe = make_pipeline(preprocessor,rf)\n",
    "\n",
    "scores = cross_val_score(pipe, X, y, cv=5, scoring='roc_auc')\n",
    "print(scores.mean(), \"+/-\", scores.std())"
   ]
  },
  {
   "cell_type": "code",
   "execution_count": 494,
   "metadata": {},
   "outputs": [],
   "source": [
    "df_results = df_results.append({       # results written in dataframe\n",
    "     \"Model\": 'RandomForestClassifier' ,\n",
    "      \"Scaler\": 'Robust' , \n",
    "       'Encoder' : 'WoE',\n",
    "                'roc_auc score mean' : 0.9193,\n",
    "                    'roc_auc score std' : 0.0022}, ignore_index=True)\n"
   ]
  },
  {
   "cell_type": "code",
   "execution_count": 495,
   "metadata": {},
   "outputs": [
    {
     "name": "stdout",
     "output_type": "stream",
     "text": [
      "Accuracy:\n",
      "=========\n",
      "TRAIN: 0.9533557800224467\n",
      "TEST: 0.8556902356902357\n",
      "\n",
      "Balanced Accuracy:\n",
      "==================\n",
      "TRAIN: 0.9492379199049239\n",
      "TEST: 0.8417148988751928\n"
     ]
    }
   ],
   "source": [
    "# choosing scaler and encoder\n",
    "scaler=RobustScaler()\n",
    "encoder = ce.TargetEncoder(cols=cat_columns)\n",
    "\n",
    "# putting numeric columns to scaler and categorical to encoder\n",
    "num_transformer = make_pipeline(scaler)\n",
    "cat_transformer = make_pipeline(encoder)\n",
    "\n",
    "# getting together our scaler and encoder with preprocessor\n",
    "preprocessor = ColumnTransformer(\n",
    "      transformers=[('num', num_transformer, num_col),\n",
    "                    ('cat', cat_transformer, cat_columns)])\n",
    "\n",
    "# set rf with best grid search results\n",
    "\n",
    "rf = RandomForestClassifier(n_estimators=100, random_state=42, n_jobs=-1,\n",
    "                            criterion= 'entropy',max_features= 'sqrt',\n",
    "                             min_samples_split= 10,class_weight='balanced')\n",
    "\n",
    "#giving all values to pipeline\n",
    "\n",
    "pipe = make_pipeline(preprocessor,rf)\n",
    "\n",
    "\n",
    "pipe.fit(X_train,y_train)\n",
    "# predictions on train set\n",
    "y_pred = pipe.predict(X_train)\n",
    "\n",
    "# predictions on test set\n",
    "y_pred_test = pipe.predict(X_test)\n",
    "\n",
    "# to print the results in good way\n",
    "print(\"Accuracy:\"); print(\"=\"*len(\"Accuracy:\"))\n",
    "print(f\"TRAIN: {accuracy_score(y_train, y_pred)}\")\n",
    "print(f\"TEST: {accuracy_score(y_test, y_pred_test)}\")\n",
    "\n",
    "print(\"\\nBalanced Accuracy:\"); print(\"=\"*len(\"Balanced Accuracy:\"))\n",
    "print(f\"TRAIN: {balanced_accuracy_score(y_train, y_pred)}\")\n",
    "print(f\"TEST: {balanced_accuracy_score(y_test, y_pred_test)}\")"
   ]
  },
  {
   "cell_type": "code",
   "execution_count": 496,
   "metadata": {},
   "outputs": [
    {
     "data": {
      "image/png": "[encoded data removed]",
      "text/plain": [
       "<Figure size 360x360 with 2 Axes>"
      ]
     },
     "metadata": {
      "needs_background": "light"
     },
     "output_type": "display_data"
    }
   ],
   "source": [
    "# plot the confusion matrix\n",
    "from sklearn.metrics import confusion_matrix, plot_confusion_matrix\n",
    "\n",
    "\n",
    "\n",
    "plt.figure(figsize=(5,5))\n",
    "sns.heatmap(confusion_matrix(y_test, y_pred_test), annot=True, fmt='g');"
   ]
  },
  {
   "attachments": {},
   "cell_type": "markdown",
   "metadata": {},
   "source": [
    "K-Neighbor Classifier\n",
    "\n",
    "\n",
    "Finding the new point's closest neighbor among a predetermined number of training points and predicting the label based on it is the main idea behind k-Neighbors. We first tested this model without adjusting any of the parameters. We will decide whether to tweak or abandon this model based on the results."
   ]
  },
  {
   "cell_type": "code",
   "execution_count": 497,
   "metadata": {},
   "outputs": [
    {
     "name": "stdout",
     "output_type": "stream",
     "text": [
      "0.8780315184135347 +/- 0.002188952433926146\n"
     ]
    }
   ],
   "source": [
    "knn = KNeighborsClassifier()\n",
    "\n",
    "pipe = make_pipeline(preprocessor,knn)\n",
    "scores = cross_val_score(pipe, X, y, cv=5, scoring='roc_auc')\n",
    "print(scores.mean(), \"+/-\", scores.std())"
   ]
  },
  {
   "cell_type": "code",
   "execution_count": 498,
   "metadata": {},
   "outputs": [],
   "source": [
    "df_results = df_results.append({       # results written in dataframe\n",
    "     \"Model\": 'K-Neigbours' ,\n",
    "      \"Scaler\": 'Robust' , \n",
    "       'Encoder' : 'WoE',\n",
    "                'roc_auc score mean' : 0.8852,\n",
    "                    'roc_auc score std' : 0.0024}, ignore_index=True)"
   ]
  },
  {
   "attachments": {},
   "cell_type": "markdown",
   "metadata": {},
   "source": [
    "## Finding Parameters"
   ]
  },
  {
   "cell_type": "code",
   "execution_count": 499,
   "metadata": {},
   "outputs": [],
   "source": [
    "#creating a pipeline\n",
    "#Instantiating scalar and linear regression classes\n",
    "pipe = Pipeline([('scaler', StandardScaler()),\n",
    "                     ('lg', LogisticRegression(random_state=23))])"
   ]
  },
  {
   "cell_type": "code",
   "execution_count": 500,
   "metadata": {},
   "outputs": [],
   "source": [
    "#creating the grid\n",
    "lg_param_grid = [{\n",
    "    'lg__penalty': ['none', \"l1\", \"l2\", 'elasticnet'],\n",
    "    'lg__C': [1.0, 1e3, 1e5],\n",
    "    'lg__class_weight': [{1: 0.28}],\n",
    "    'lg__max_iter':[1000],\n",
    "    'lg__solver': [\"liblinear\", \"sag\", \"saga\", \"lbfgs\"]}]"
   ]
  },
  {
   "cell_type": "code",
   "execution_count": 501,
   "metadata": {},
   "outputs": [],
   "source": [
    "# Define a grid search\n",
    "lg_gridsearch = GridSearchCV(estimator=pipe, \n",
    "                          param_grid=lg_param_grid, \n",
    "                          scoring='recall', \n",
    "                          cv=5)"
   ]
  },
  {
   "cell_type": "code",
   "execution_count": 502,
   "metadata": {},
   "outputs": [
    {
     "data": {
      "text/plain": [
       "0.24116877453118185"
      ]
     },
     "execution_count": 502,
     "metadata": {},
     "output_type": "execute_result"
    }
   ],
   "source": [
    "# Fit the training data\n",
    "lg_gridsearch.fit(X_train, y_train)\n",
    "\n",
    "# Print the accuracy on test set\n",
    "lg_gridsearch.score(X_test, y_test)"
   ]
  },
  {
   "cell_type": "code",
   "execution_count": 503,
   "metadata": {},
   "outputs": [],
   "source": [
    "# dividing our X and y and train-test splits\n",
    "\n",
    "used_cols1 = [c for c in df2.columns.tolist() if c not in [target]]\n",
    "X1=df2[used_cols1]\n",
    "y1=df2[target]\n",
    "\n",
    "X_train, X_test, y_train, y_test = train_test_split(X1, y1, test_size=0.2, random_state=42)"
   ]
  },
  {
   "cell_type": "code",
   "execution_count": 504,
   "metadata": {},
   "outputs": [
    {
     "data": {
      "text/plain": [
       "GridSearchCV(cv=5,\n",
       "             estimator=RandomForestClassifier(class_weight='balanced',\n",
       "                                              criterion='entropy',\n",
       "                                              max_features='sqrt',\n",
       "                                              min_samples_split=10, n_jobs=-1,\n",
       "                                              random_state=42),\n",
       "             n_jobs=-1,\n",
       "             param_grid={'criterion': ['gini', 'entropy'],\n",
       "                         'max_features': ['sqrt', 'log2'],\n",
       "                         'min_samples_split': [2, 5, 10],\n",
       "                         'n_estimators': [20, 50, 100]},\n",
       "             scoring='roc_auc')"
      ]
     },
     "execution_count": 504,
     "metadata": {},
     "output_type": "execute_result"
    }
   ],
   "source": [
    "# setting grid search parameters and fit and run them\n",
    "grid_p = {\"n_estimators\": [20, 50, 100],\n",
    "          \"criterion\": [\"gini\", \"entropy\"],\n",
    "          \"max_features\": ['sqrt', 'log2'],\n",
    "          \"min_samples_split\": [2, 5, 10]}\n",
    "\n",
    "grid_search = GridSearchCV(rf, grid_p, n_jobs=-1, cv=5, scoring='roc_auc')\n",
    "grid_search.fit(X_train, y_train)"
   ]
  },
  {
   "cell_type": "code",
   "execution_count": 510,
   "metadata": {},
   "outputs": [
    {
     "data": {
      "text/plain": [
       "0.9208223378740323"
      ]
     },
     "execution_count": 510,
     "metadata": {},
     "output_type": "execute_result"
    }
   ],
   "source": [
    "# to see the best score of grid search\n",
    "grid_search.best_score_"
   ]
  },
  {
   "cell_type": "code",
   "execution_count": 511,
   "metadata": {},
   "outputs": [
    {
     "data": {
      "text/plain": [
       "{'criterion': 'gini',\n",
       " 'max_features': 'sqrt',\n",
       " 'min_samples_split': 10,\n",
       " 'n_estimators': 100}"
      ]
     },
     "execution_count": 511,
     "metadata": {},
     "output_type": "execute_result"
    }
   ],
   "source": [
    "# to see the parameters for best score\n",
    "grid_search.best_params_"
   ]
  },
  {
   "attachments": {},
   "cell_type": "markdown",
   "metadata": {},
   "source": [
    "Giving the grid search more parameters and values will allow us to locate better parameters, but this process might take hours or our machine might not be able to convert it. The code has already been executed for six different settings, but after an hour it produced no results. Therefore, we made the decision to set four parameters for the run and to employ them."
   ]
  },
  {
   "cell_type": "code",
   "execution_count": 505,
   "metadata": {},
   "outputs": [
    {
     "data": {
      "text/html": [
       "<div>\n",
       "<style scoped>\n",
       "    .dataframe tbody tr th:only-of-type {\n",
       "        vertical-align: middle;\n",
       "    }\n",
       "\n",
       "    .dataframe tbody tr th {\n",
       "        vertical-align: top;\n",
       "    }\n",
       "\n",
       "    .dataframe thead th {\n",
       "        text-align: right;\n",
       "    }\n",
       "</style>\n",
       "<table border=\"1\" class=\"dataframe\">\n",
       "  <thead>\n",
       "    <tr style=\"text-align: right;\">\n",
       "      <th></th>\n",
       "      <th>Model</th>\n",
       "      <th>Scaler</th>\n",
       "      <th>Encoder</th>\n",
       "      <th>roc_auc score mean</th>\n",
       "      <th>roc_auc score std</th>\n",
       "    </tr>\n",
       "  </thead>\n",
       "  <tbody>\n",
       "    <tr>\n",
       "      <th>0</th>\n",
       "      <td>LogReg</td>\n",
       "      <td>Robust</td>\n",
       "      <td>TargetEncoder</td>\n",
       "      <td>0.8313</td>\n",
       "      <td>0.0041</td>\n",
       "    </tr>\n",
       "    <tr>\n",
       "      <th>1</th>\n",
       "      <td>LogReg</td>\n",
       "      <td>Robust</td>\n",
       "      <td>WeO</td>\n",
       "      <td>0.8318</td>\n",
       "      <td>0.0040</td>\n",
       "    </tr>\n",
       "    <tr>\n",
       "      <th>2</th>\n",
       "      <td>LogReg</td>\n",
       "      <td>Robust</td>\n",
       "      <td>OneHot</td>\n",
       "      <td>0.8538</td>\n",
       "      <td>0.0024</td>\n",
       "    </tr>\n",
       "    <tr>\n",
       "      <th>3</th>\n",
       "      <td>LogReg</td>\n",
       "      <td>MinMax</td>\n",
       "      <td>WoE</td>\n",
       "      <td>0.8317</td>\n",
       "      <td>0.0040</td>\n",
       "    </tr>\n",
       "    <tr>\n",
       "      <th>4</th>\n",
       "      <td>DecisionTreeClassifier</td>\n",
       "      <td>Robust</td>\n",
       "      <td>WoE</td>\n",
       "      <td>0.7864</td>\n",
       "      <td>0.0089</td>\n",
       "    </tr>\n",
       "    <tr>\n",
       "      <th>5</th>\n",
       "      <td>RandomForestClassifier</td>\n",
       "      <td>Robust</td>\n",
       "      <td>WoE</td>\n",
       "      <td>0.9193</td>\n",
       "      <td>0.0022</td>\n",
       "    </tr>\n",
       "    <tr>\n",
       "      <th>6</th>\n",
       "      <td>K-Neigbours</td>\n",
       "      <td>Robust</td>\n",
       "      <td>WoE</td>\n",
       "      <td>0.8852</td>\n",
       "      <td>0.0024</td>\n",
       "    </tr>\n",
       "  </tbody>\n",
       "</table>\n",
       "</div>"
      ],
      "text/plain": [
       "                    Model  Scaler        Encoder  roc_auc score mean  \\\n",
       "0                  LogReg  Robust  TargetEncoder              0.8313   \n",
       "1                  LogReg  Robust            WeO              0.8318   \n",
       "2                  LogReg  Robust         OneHot              0.8538   \n",
       "3                  LogReg  MinMax            WoE              0.8317   \n",
       "4  DecisionTreeClassifier  Robust            WoE              0.7864   \n",
       "5  RandomForestClassifier  Robust            WoE              0.9193   \n",
       "6             K-Neigbours  Robust            WoE              0.8852   \n",
       "\n",
       "   roc_auc score std  \n",
       "0             0.0041  \n",
       "1             0.0040  \n",
       "2             0.0024  \n",
       "3             0.0040  \n",
       "4             0.0089  \n",
       "5             0.0022  \n",
       "6             0.0024  "
      ]
     },
     "execution_count": 505,
     "metadata": {},
     "output_type": "execute_result"
    }
   ],
   "source": [
    "df_results"
   ]
  },
  {
   "attachments": {},
   "cell_type": "markdown",
   "metadata": {},
   "source": [
    "The findings indicate that the model achieved high accuracy and balanced accuracy scores on both the training and test data. The model performed well in correctly predicting the class labels for the majority of instances, while also handling the imbalances in the class distribution to a good extent. However, it is important to consider other evaluation metrics and perform a more comprehensive analysis to gain a deeper understanding of the model's performance and its ability to generalize to unseen data."
   ]
  },
  {
   "cell_type": "code",
   "execution_count": 512,
   "metadata": {},
   "outputs": [
    {
     "name": "stdout",
     "output_type": "stream",
     "text": [
      "0.9134611701819241 +/- 0.003088840831103747\n"
     ]
    }
   ],
   "source": [
    "# to see the roc auc score with best parameters\n",
    "scores = cross_val_score(best_rf, X1, y1, cv=5, scoring='roc_auc') \n",
    "print(scores.mean(), \"+/-\", scores.std())"
   ]
  },
  {
   "cell_type": "code",
   "execution_count": 514,
   "metadata": {},
   "outputs": [],
   "source": [
    "df_results = df_results.append({       # results written in dataframe\n",
    "     \"Model\": 'RFC with GridSearch' ,\n",
    "      \"Scaler\": 'Robust' , \n",
    "       'Encoder' : 'WoE',\n",
    "                'roc_auc score mean' : 0.9243,\n",
    "                    'roc_auc score std' : 0.0023}, ignore_index=True)"
   ]
  },
  {
   "cell_type": "code",
   "execution_count": 515,
   "metadata": {},
   "outputs": [
    {
     "data": {
      "text/html": [
       "<div>\n",
       "<style scoped>\n",
       "    .dataframe tbody tr th:only-of-type {\n",
       "        vertical-align: middle;\n",
       "    }\n",
       "\n",
       "    .dataframe tbody tr th {\n",
       "        vertical-align: top;\n",
       "    }\n",
       "\n",
       "    .dataframe thead th {\n",
       "        text-align: right;\n",
       "    }\n",
       "</style>\n",
       "<table border=\"1\" class=\"dataframe\">\n",
       "  <thead>\n",
       "    <tr style=\"text-align: right;\">\n",
       "      <th></th>\n",
       "      <th>Model</th>\n",
       "      <th>Scaler</th>\n",
       "      <th>Encoder</th>\n",
       "      <th>roc_auc score mean</th>\n",
       "      <th>roc_auc score std</th>\n",
       "    </tr>\n",
       "  </thead>\n",
       "  <tbody>\n",
       "    <tr>\n",
       "      <th>0</th>\n",
       "      <td>LogReg</td>\n",
       "      <td>Robust</td>\n",
       "      <td>TargetEncoder</td>\n",
       "      <td>0.8313</td>\n",
       "      <td>0.0041</td>\n",
       "    </tr>\n",
       "    <tr>\n",
       "      <th>1</th>\n",
       "      <td>LogReg</td>\n",
       "      <td>Robust</td>\n",
       "      <td>WeO</td>\n",
       "      <td>0.8318</td>\n",
       "      <td>0.0040</td>\n",
       "    </tr>\n",
       "    <tr>\n",
       "      <th>2</th>\n",
       "      <td>LogReg</td>\n",
       "      <td>Robust</td>\n",
       "      <td>OneHot</td>\n",
       "      <td>0.8538</td>\n",
       "      <td>0.0024</td>\n",
       "    </tr>\n",
       "    <tr>\n",
       "      <th>3</th>\n",
       "      <td>LogReg</td>\n",
       "      <td>MinMax</td>\n",
       "      <td>WoE</td>\n",
       "      <td>0.8317</td>\n",
       "      <td>0.0040</td>\n",
       "    </tr>\n",
       "    <tr>\n",
       "      <th>4</th>\n",
       "      <td>DecisionTreeClassifier</td>\n",
       "      <td>Robust</td>\n",
       "      <td>WoE</td>\n",
       "      <td>0.7864</td>\n",
       "      <td>0.0089</td>\n",
       "    </tr>\n",
       "    <tr>\n",
       "      <th>5</th>\n",
       "      <td>RandomForestClassifier</td>\n",
       "      <td>Robust</td>\n",
       "      <td>WoE</td>\n",
       "      <td>0.9193</td>\n",
       "      <td>0.0022</td>\n",
       "    </tr>\n",
       "    <tr>\n",
       "      <th>6</th>\n",
       "      <td>K-Neigbours</td>\n",
       "      <td>Robust</td>\n",
       "      <td>WoE</td>\n",
       "      <td>0.8852</td>\n",
       "      <td>0.0024</td>\n",
       "    </tr>\n",
       "    <tr>\n",
       "      <th>7</th>\n",
       "      <td>RFC with GridSearch</td>\n",
       "      <td>Robust</td>\n",
       "      <td>WoE</td>\n",
       "      <td>0.9243</td>\n",
       "      <td>0.0023</td>\n",
       "    </tr>\n",
       "  </tbody>\n",
       "</table>\n",
       "</div>"
      ],
      "text/plain": [
       "                    Model  Scaler        Encoder  roc_auc score mean  \\\n",
       "0                  LogReg  Robust  TargetEncoder              0.8313   \n",
       "1                  LogReg  Robust            WeO              0.8318   \n",
       "2                  LogReg  Robust         OneHot              0.8538   \n",
       "3                  LogReg  MinMax            WoE              0.8317   \n",
       "4  DecisionTreeClassifier  Robust            WoE              0.7864   \n",
       "5  RandomForestClassifier  Robust            WoE              0.9193   \n",
       "6             K-Neigbours  Robust            WoE              0.8852   \n",
       "7     RFC with GridSearch  Robust            WoE              0.9243   \n",
       "\n",
       "   roc_auc score std  \n",
       "0             0.0041  \n",
       "1             0.0040  \n",
       "2             0.0024  \n",
       "3             0.0040  \n",
       "4             0.0089  \n",
       "5             0.0022  \n",
       "6             0.0024  \n",
       "7             0.0023  "
      ]
     },
     "execution_count": 515,
     "metadata": {},
     "output_type": "execute_result"
    }
   ],
   "source": [
    "df_results"
   ]
  },
  {
   "attachments": {},
   "cell_type": "markdown",
   "metadata": {},
   "source": [
    "## Feature Selection"
   ]
  },
  {
   "cell_type": "markdown",
   "metadata": {},
   "source": [
    "We are interested in the significance of the random forest traits. Apply feature_importances_ after fitting the train data first.\n"
   ]
  },
  {
   "cell_type": "code",
   "execution_count": 519,
   "metadata": {},
   "outputs": [
    {
     "data": {
      "text/plain": [
       "RandomForestClassifier()"
      ]
     },
     "execution_count": 519,
     "metadata": {},
     "output_type": "execute_result"
    }
   ],
   "source": [
    "from sklearn.ensemble import RandomForestClassifier\n",
    "\n",
    "# Create a RandomForestClassifier instance\n",
    "rf = RandomForestClassifier()\n",
    "\n",
    "# Fit the model to the training data\n",
    "rf.fit(X_train, y_train)\n"
   ]
  },
  {
   "cell_type": "code",
   "execution_count": 520,
   "metadata": {},
   "outputs": [
    {
     "name": "stdout",
     "output_type": "stream",
     "text": [
      "Feature ranking:\n",
      "1. feature 13 (0.16880249614315762)\n",
      "2. feature 2 (0.15298776713851903)\n",
      "3. feature 3 (0.15256499150322508)\n",
      "4. feature 1 (0.07805044539719852)\n",
      "5. feature 15 (0.07721122517041666)\n",
      "6. feature 9 (0.05310723577202826)\n",
      "7. feature 6 (0.050194006042971535)\n",
      "8. feature 0 (0.036805894934668654)\n",
      "9. feature 14 (0.034274404109529005)\n",
      "10. feature 16 (0.03404101372737691)\n",
      "11. feature 17 (0.03363721164901011)\n",
      "12. feature 5 (0.032308737070809404)\n",
      "13. feature 11 (0.02818194534219647)\n",
      "14. feature 10 (0.02791662671360712)\n",
      "15. feature 12 (0.02032688295977001)\n",
      "16. feature 8 (0.01052729872920982)\n",
      "17. feature 7 (0.006969876300675092)\n",
      "18. feature 4 (0.0020919412956307724)\n"
     ]
    },
    {
     "data": {
      "image/png": "[encoded data removed]",
      "text/plain": [
       "<Figure size 432x288 with 1 Axes>"
      ]
     },
     "metadata": {
      "needs_background": "light"
     },
     "output_type": "display_data"
    }
   ],
   "source": [
    "importances = rf.feature_importances_\n",
    "std = np.std([tree.feature_importances_ for tree in rf.estimators_], axis=0)\n",
    "indices = np.argsort(importances)[::-1]\n",
    "\n",
    "# Printing the feature ranking\n",
    "print(\"Feature ranking:\")\n",
    "for f in range(X1.shape[1]):\n",
    "    print(f\"{f + 1}. feature {indices[f]} ({importances[indices[f]]})\")\n",
    "\n",
    "# Plotting the feature importances\n",
    "plt.figure()\n",
    "plt.title(\"Feature importances\")\n",
    "plt.bar(range(X1.shape[1]), importances[indices], color=\"r\", yerr=std[indices], align=\"center\")\n",
    "plt.xticks(range(X1.shape[1]), indices)\n",
    "plt.xlim([-1, X1.shape[1]])\n",
    "plt.show()\n"
   ]
  },
  {
   "attachments": {},
   "cell_type": "markdown",
   "metadata": {},
   "source": [
    "According to the graph below, traits 13-1 and 2 are more important in our model than 5-6 and 12, which are given less weight. We will now remove the final two features and retest our model."
   ]
  },
  {
   "cell_type": "code",
   "execution_count": 524,
   "metadata": {},
   "outputs": [],
   "source": [
    "discard = ['public_meeting', 'permit']\n",
    "\n",
    "# Determine new X and y values\n",
    "used_cols2 = [c for c in df2.columns.tolist() if c not in [target] + discard]\n",
    "X2 = df2[used_cols2]\n",
    "y2 = df2[target]\n"
   ]
  },
  {
   "cell_type": "code",
   "execution_count": 525,
   "metadata": {},
   "outputs": [
    {
     "name": "stdout",
     "output_type": "stream",
     "text": [
      "0.9230761096232781 +/- 0.002007027435446411\n"
     ]
    }
   ],
   "source": [
    "# setting classifier with best grid search parameters and taking roc-auc score\n",
    "\n",
    "rf = RandomForestClassifier(n_estimators=100, random_state=42, n_jobs=-1,class_weight='balanced',\n",
    "                        criterion ='entropy',max_features = 'sqrt', min_samples_split = 10)\n",
    "\n",
    "scores = cross_val_score(rf, X2, y2, cv=5, scoring='roc_auc')\n",
    "print(scores.mean(), \"+/-\", scores.std())\n"
   ]
  },
  {
   "cell_type": "code",
   "execution_count": 526,
   "metadata": {},
   "outputs": [],
   "source": [
    "df_results = df_results.append({       # results written in dataframe\n",
    "     \"Model\": 'RFClassifier w/feature selection' ,\n",
    "      \"Scaler\": 'Robust' , \n",
    "       'Encoder' : 'WoE',\n",
    "                'roc_auc score mean' : 0.9242,\n",
    "                    'roc_auc score std' : 0.0020}, ignore_index=True)"
   ]
  },
  {
   "attachments": {},
   "cell_type": "markdown",
   "metadata": {},
   "source": [
    "SMOTE\n",
    "It takes too long to utilize SMOTE with a scaler and encoder. Therefore, we will alter, scale, and encode our dataframe. We allocate the original one to new df in order to safeguard it.\n"
   ]
  },
  {
   "cell_type": "code",
   "execution_count": 527,
   "metadata": {},
   "outputs": [],
   "source": [
    "df4=df2.copy() # assign to protect original one "
   ]
  },
  {
   "cell_type": "code",
   "execution_count": 530,
   "metadata": {},
   "outputs": [],
   "source": [
    "# encoding categorical columns\n",
    "import category_encoders as ce\n",
    "\n",
    "encoder = ce.TargetEncoder(cols=cat_columns)\n",
    "\n",
    "df_encoded = encoder.fit_transform(df4[cat_columns], df4[target])\n",
    "\n",
    "# Drop the original categorical columns from the dataframe\n",
    "df4.drop(columns=cat_columns, inplace=True)\n",
    "\n",
    "# Concatenate the encoded dataframe with the original dataframe\n",
    "df4 = pd.concat([df4, df_encoded], axis=1)\n"
   ]
  },
  {
   "cell_type": "code",
   "execution_count": 532,
   "metadata": {},
   "outputs": [],
   "source": [
    "# scaling numerical columns\n",
    "\n",
    "from sklearn.preprocessing import RobustScaler\n",
    "\n",
    "scaler = RobustScaler()\n",
    "\n",
    "def scaleColumns(df, num_cols):\n",
    "    for col in num_cols:\n",
    "        df[col] = scaler.fit_transform(df[[col]])\n",
    "    return df\n",
    "\n",
    "scaled_df = scaleColumns(df4, num_col)\n"
   ]
  },
  {
   "cell_type": "code",
   "execution_count": 533,
   "metadata": {},
   "outputs": [],
   "source": [
    "# assign X and y\n",
    "used_cols = [c for c in scaled_df.columns.tolist() if c != target]\n",
    "X = scaled_df[used_cols]\n",
    "y = scaled_df[target]\n"
   ]
  },
  {
   "cell_type": "code",
   "execution_count": 534,
   "metadata": {},
   "outputs": [
    {
     "name": "stdout",
     "output_type": "stream",
     "text": [
      "1    36576\n",
      "0    22824\n",
      "Name: status_group, dtype: int64\n",
      "1    36576\n",
      "0    36576\n",
      "Name: status_group, dtype: int64\n"
     ]
    }
   ],
   "source": [
    "from imblearn.over_sampling import SMOTE\n",
    "\n",
    "smt = SMOTE(sampling_strategy='auto', n_jobs=-1)\n",
    "\n",
    "X_sampled, y_sampled = smt.fit_resample(X, y)\n",
    "\n",
    "print(y.value_counts())\n",
    "print(y_sampled.value_counts())\n"
   ]
  },
  {
   "cell_type": "code",
   "execution_count": 535,
   "metadata": {},
   "outputs": [],
   "source": [
    "#splitting train-test balanced target data\n",
    "X_train, X_test, y_train, y_test = train_test_split(X_sampled, y_sampled, test_size=0.2, random_state=42)\n"
   ]
  },
  {
   "cell_type": "code",
   "execution_count": 536,
   "metadata": {},
   "outputs": [
    {
     "name": "stdout",
     "output_type": "stream",
     "text": [
      "[22:36:55] WARNING: /Users/runner/miniforge3/conda-bld/xgboost_1598185652448/work/src/learner.cc:516: \n",
      "Parameters: { early_stopping_rounds, maximize, nrounds } might not be used.\n",
      "\n",
      "  This may not be accurate due to some parameters are only used in language bindings but\n",
      "  passed down to XGBoost core.  Or some parameters are not used but slip through this\n",
      "  verification. Please open an issue if you find above cases.\n",
      "\n",
      "\n",
      "Accuracy:\n",
      "=========\n",
      "TRAIN: 0.9781787734317595\n",
      "TEST: 0.8883193219875607\n",
      "\n",
      "Balanced Accuracy:\n",
      "==================\n",
      "TRAIN: 0.9782022187697832\n",
      "TEST: 0.8880545927692269\n"
     ]
    }
   ],
   "source": [
    "from xgboost import XGBClassifier\n",
    "from sklearn.metrics import accuracy_score, balanced_accuracy_score\n",
    "\n",
    "xgb_smote = XGBClassifier(objective='multi:softmax', booster='gbtree', nrounds='min.error.idx',\n",
    "                          num_class=3, maximize=False, eval_metric='merror', eta=0.1,\n",
    "                          max_depth=16, colsample_bytree=0.4, n_jobs=-1, learning_rate=0.1,\n",
    "                          early_stopping_rounds=10)\n",
    "\n",
    "xgb_smote.fit(X_train, y_train)\n",
    "\n",
    "# Predictions on the training set\n",
    "y_pred_train = xgb_smote.predict(X_train)\n",
    "\n",
    "# Predictions on the test set\n",
    "y_pred_test = xgb_smote.predict(X_test)\n",
    "\n",
    "# Accuracy scores\n",
    "train_accuracy = accuracy_score(y_train, y_pred_train)\n",
    "test_accuracy = accuracy_score(y_test, y_pred_test)\n",
    "\n",
    "# Balanced accuracy scores\n",
    "train_balanced_accuracy = balanced_accuracy_score(y_train, y_pred_train)\n",
    "test_balanced_accuracy = balanced_accuracy_score(y_test, y_pred_test)\n",
    "\n",
    "# Print the results\n",
    "print(\"Accuracy:\")\n",
    "print(\"=\" * len(\"Accuracy:\"))\n",
    "print(f\"TRAIN: {train_accuracy}\")\n",
    "print(f\"TEST: {test_accuracy}\")\n",
    "\n",
    "print(\"\\nBalanced Accuracy:\")\n",
    "print(\"=\" * len(\"Balanced Accuracy:\"))\n",
    "print(f\"TRAIN: {train_balanced_accuracy}\")\n",
    "print(f\"TEST: {test_balanced_accuracy}\")\n"
   ]
  },
  {
   "attachments": {},
   "cell_type": "markdown",
   "metadata": {},
   "source": [
    "##Conclusion"
   ]
  },
  {
   "cell_type": "code",
   "execution_count": 537,
   "metadata": {},
   "outputs": [],
   "source": [
    "df_results = df_results.append({       # trial is written in results \n",
    "     \"Model\": 'XGBoost' ,\n",
    "      \"test_balanced_acc\": 0.860 , \n",
    "       'train_balanced_acc' : 0.952,\n",
    "               'info' : 'with SMOTE'}, ignore_index=True)\n"
   ]
  },
  {
   "cell_type": "code",
   "execution_count": 538,
   "metadata": {},
   "outputs": [
    {
     "data": {
      "text/html": [
       "<div>\n",
       "<style scoped>\n",
       "    .dataframe tbody tr th:only-of-type {\n",
       "        vertical-align: middle;\n",
       "    }\n",
       "\n",
       "    .dataframe tbody tr th {\n",
       "        vertical-align: top;\n",
       "    }\n",
       "\n",
       "    .dataframe thead th {\n",
       "        text-align: right;\n",
       "    }\n",
       "</style>\n",
       "<table border=\"1\" class=\"dataframe\">\n",
       "  <thead>\n",
       "    <tr style=\"text-align: right;\">\n",
       "      <th></th>\n",
       "      <th>Model</th>\n",
       "      <th>Scaler</th>\n",
       "      <th>Encoder</th>\n",
       "      <th>roc_auc score mean</th>\n",
       "      <th>roc_auc score std</th>\n",
       "      <th>info</th>\n",
       "      <th>test_balanced_acc</th>\n",
       "      <th>train_balanced_acc</th>\n",
       "    </tr>\n",
       "  </thead>\n",
       "  <tbody>\n",
       "    <tr>\n",
       "      <th>0</th>\n",
       "      <td>LogReg</td>\n",
       "      <td>Robust</td>\n",
       "      <td>TargetEncoder</td>\n",
       "      <td>0.8313</td>\n",
       "      <td>0.0041</td>\n",
       "      <td>NaN</td>\n",
       "      <td>NaN</td>\n",
       "      <td>NaN</td>\n",
       "    </tr>\n",
       "    <tr>\n",
       "      <th>1</th>\n",
       "      <td>LogReg</td>\n",
       "      <td>Robust</td>\n",
       "      <td>WeO</td>\n",
       "      <td>0.8318</td>\n",
       "      <td>0.0040</td>\n",
       "      <td>NaN</td>\n",
       "      <td>NaN</td>\n",
       "      <td>NaN</td>\n",
       "    </tr>\n",
       "    <tr>\n",
       "      <th>2</th>\n",
       "      <td>LogReg</td>\n",
       "      <td>Robust</td>\n",
       "      <td>OneHot</td>\n",
       "      <td>0.8538</td>\n",
       "      <td>0.0024</td>\n",
       "      <td>NaN</td>\n",
       "      <td>NaN</td>\n",
       "      <td>NaN</td>\n",
       "    </tr>\n",
       "    <tr>\n",
       "      <th>3</th>\n",
       "      <td>LogReg</td>\n",
       "      <td>MinMax</td>\n",
       "      <td>WoE</td>\n",
       "      <td>0.8317</td>\n",
       "      <td>0.0040</td>\n",
       "      <td>NaN</td>\n",
       "      <td>NaN</td>\n",
       "      <td>NaN</td>\n",
       "    </tr>\n",
       "    <tr>\n",
       "      <th>4</th>\n",
       "      <td>DecisionTreeClassifier</td>\n",
       "      <td>Robust</td>\n",
       "      <td>WoE</td>\n",
       "      <td>0.7864</td>\n",
       "      <td>0.0089</td>\n",
       "      <td>NaN</td>\n",
       "      <td>NaN</td>\n",
       "      <td>NaN</td>\n",
       "    </tr>\n",
       "    <tr>\n",
       "      <th>5</th>\n",
       "      <td>RandomForestClassifier</td>\n",
       "      <td>Robust</td>\n",
       "      <td>WoE</td>\n",
       "      <td>0.9193</td>\n",
       "      <td>0.0022</td>\n",
       "      <td>NaN</td>\n",
       "      <td>NaN</td>\n",
       "      <td>NaN</td>\n",
       "    </tr>\n",
       "    <tr>\n",
       "      <th>6</th>\n",
       "      <td>K-Neigbours</td>\n",
       "      <td>Robust</td>\n",
       "      <td>WoE</td>\n",
       "      <td>0.8852</td>\n",
       "      <td>0.0024</td>\n",
       "      <td>NaN</td>\n",
       "      <td>NaN</td>\n",
       "      <td>NaN</td>\n",
       "    </tr>\n",
       "    <tr>\n",
       "      <th>7</th>\n",
       "      <td>RFC with GridSearch</td>\n",
       "      <td>Robust</td>\n",
       "      <td>WoE</td>\n",
       "      <td>0.9243</td>\n",
       "      <td>0.0023</td>\n",
       "      <td>NaN</td>\n",
       "      <td>NaN</td>\n",
       "      <td>NaN</td>\n",
       "    </tr>\n",
       "    <tr>\n",
       "      <th>8</th>\n",
       "      <td>RFClassifier w/feature selection</td>\n",
       "      <td>Robust</td>\n",
       "      <td>WoE</td>\n",
       "      <td>0.9242</td>\n",
       "      <td>0.0020</td>\n",
       "      <td>NaN</td>\n",
       "      <td>NaN</td>\n",
       "      <td>NaN</td>\n",
       "    </tr>\n",
       "    <tr>\n",
       "      <th>9</th>\n",
       "      <td>XGBoost</td>\n",
       "      <td>NaN</td>\n",
       "      <td>NaN</td>\n",
       "      <td>NaN</td>\n",
       "      <td>NaN</td>\n",
       "      <td>with SMOTE</td>\n",
       "      <td>0.86</td>\n",
       "      <td>0.952</td>\n",
       "    </tr>\n",
       "  </tbody>\n",
       "</table>\n",
       "</div>"
      ],
      "text/plain": [
       "                              Model  Scaler        Encoder  \\\n",
       "0                            LogReg  Robust  TargetEncoder   \n",
       "1                            LogReg  Robust            WeO   \n",
       "2                            LogReg  Robust         OneHot   \n",
       "3                            LogReg  MinMax            WoE   \n",
       "4            DecisionTreeClassifier  Robust            WoE   \n",
       "5            RandomForestClassifier  Robust            WoE   \n",
       "6                       K-Neigbours  Robust            WoE   \n",
       "7               RFC with GridSearch  Robust            WoE   \n",
       "8  RFClassifier w/feature selection  Robust            WoE   \n",
       "9                           XGBoost     NaN            NaN   \n",
       "\n",
       "   roc_auc score mean  roc_auc score std        info  test_balanced_acc  \\\n",
       "0              0.8313             0.0041         NaN                NaN   \n",
       "1              0.8318             0.0040         NaN                NaN   \n",
       "2              0.8538             0.0024         NaN                NaN   \n",
       "3              0.8317             0.0040         NaN                NaN   \n",
       "4              0.7864             0.0089         NaN                NaN   \n",
       "5              0.9193             0.0022         NaN                NaN   \n",
       "6              0.8852             0.0024         NaN                NaN   \n",
       "7              0.9243             0.0023         NaN                NaN   \n",
       "8              0.9242             0.0020         NaN                NaN   \n",
       "9                 NaN                NaN  with SMOTE               0.86   \n",
       "\n",
       "   train_balanced_acc  \n",
       "0                 NaN  \n",
       "1                 NaN  \n",
       "2                 NaN  \n",
       "3                 NaN  \n",
       "4                 NaN  \n",
       "5                 NaN  \n",
       "6                 NaN  \n",
       "7                 NaN  \n",
       "8                 NaN  \n",
       "9               0.952  "
      ]
     },
     "execution_count": 538,
     "metadata": {},
     "output_type": "execute_result"
    }
   ],
   "source": [
    "df_results"
   ]
  },
  {
   "attachments": {},
   "cell_type": "markdown",
   "metadata": {},
   "source": [
    "We discovered the best test balanced accuracy with smote. For the initial submission, an excellent score of 88% is sufficient. The confusion matrix reveals that splits are evident but not precise. Future plans call for us to focus further on the overfitting issue while fine-tuning the parameters. We want to balance false positives and false negatives in our confusion matrix. Because it will pose problems for business solutions if our model predicts wells as non-functional while they are often functional. Or, if our prediction is accurate but performs poorly when it should, that also causes issues. In order to counter our inaccurate predictions, we tried."
   ]
  }
 ],
 "metadata": {
  "kernelspec": {
   "display_name": "Python (learn-env)",
   "language": "python",
   "name": "learn-env"
  },
  "language_info": {
   "codemirror_mode": {
    "name": "ipython",
    "version": 3
   },
   "file_extension": ".py",
   "mimetype": "text/x-python",
   "name": "python",
   "nbconvert_exporter": "python",
   "pygments_lexer": "ipython3",
   "version": "3.8.5"
  },
  "orig_nbformat": 4
 },
 "nbformat": 4,
 "nbformat_minor": 2
}
